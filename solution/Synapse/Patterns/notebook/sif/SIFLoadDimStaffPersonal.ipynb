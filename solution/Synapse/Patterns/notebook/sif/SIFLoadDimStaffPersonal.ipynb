{
  "cells": [
    {
      "cell_type": "code",
      "source": [
        "TaskObject = \" \\\r\n",
        "{   \\\"TaskInstanceId\\\":53, \\\r\n",
        "    \\\"TaskMasterId\\\":1, \\\r\n",
        "    \\\"TaskStatus\\\":\\\"InProgress\\\",\\\r\n",
        "    \\\"TaskType\\\":\\\"Execute Synapse Notebook\\\",\\\r\n",
        "    \\\"Enabled\\\":1,\\\"ExecutionUid\\\": \\\r\n",
        "    \\\"dc872650-b992-4cae-9ae2-c714c95563ee\\\", \\\r\n",
        "    \\\"NumberOfRetries\\\":2, \\\r\n",
        "    \\\"DegreeOfCopyParallelism\\\":1, \\\r\n",
        "    \\\"KeyVaultBaseUrl\\\":\\\"https://ads-dev-kv-ads-we7y.vault.azure.net/\\\", \\\r\n",
        "    \\\"ScheduleMasterId\\\":\\\"-4\\\", \\\r\n",
        "    \\\"TaskGroupConcurrency\\\":\\\"10\\\", \\\r\n",
        "    \\\"TaskGroupPriority\\\":0, \\\r\n",
        "    \\\"TaskExecutionType\\\":\\\"ADF\\\", \\\r\n",
        "    \\\"Source\\\": \\\r\n",
        "        \\\"System\\\": {\\\r\n",
        "            \\\"SystemId\\\": -10,\\\r\n",
        "            \\\"SystemServer\\\": \\\"adsdevsynwadswe7y.sql.azuresynapse.net\\\",\\\r\n",
        "            \\\"AuthenticationType\\\": \\\"MSI\\\",\\\r\n",
        "            \\\"Type\\\": \\\"Azure Synapse\\\",\\\r\n",
        "            \\\"Username\\\": null,\\\r\n",
        "            \\\"Workspace\\\": \\\"adsdevsynwadswe7y\\\",\\\r\n",
        "            \\\"Database\\\": \\\"adsdevsyndpads\\\"\\\r\n",
        "        },\\\r\n",
        "        \\\"Instance\\\":{ \\\r\n",
        "            \\\"SourceRelativePath\\\":\\\"\\\", \\\r\n",
        "            \\\"TargetRelativePath\\\":\\\"\\\" \\\r\n",
        "        \\\"DataFileName\\\":\\\"\\\", \\\r\n",
        "        \\\"RelativePath\\\":\\\"\\\", \\\r\n",
        "        \\\"SchemaFileName\\\":\\\"\\\", \\\r\n",
        "        \\\"Type\\\":\\\"Notebook-Optional\\\", \\\r\n",
        "        \\\"WriteSchemaToPurview\\\":\\\"Disabled\\\" \\\r\n",
        "    \\\"Target\\\":{ \\\r\n",
        "        \\\"System\\\": {\\\r\n",
        "            \\\"SystemId\\\": -10,\\\r\n",
        "            \\\"SystemServer\\\": \\\"adsdevsynwadswe7y.sql.azuresynapse.net\\\",\\\r\n",
        "            \\\"AuthenticationType\\\": \\\"MSI\\\",\\\r\n",
        "            \\\"Type\\\": \\\"Azure Synapse\\\",\\\r\n",
        "            \\\"Username\\\": null,\\\r\n",
        "            \\\"Workspace\\\": \\\"adsdevsynwadswe7y\\\",\\\r\n",
        "            \\\"Database\\\": \\\"adsdevsyndpads\\\"\\\r\n",
        "        },\\\r\n",
        "        \\\"Instance\\\":{ \\\r\n",
        "            \\\"SourceRelativePath\\\":\\\"\\\", \\\r\n",
        "            \\\"TargetRelativePath\\\":\\\"\\\" \\\r\n",
        "        }, \\\r\n",
        "        \\\"DataFileName\\\":\\\"\\\", \\\r\n",
        "        \\\"RelativePath\\\":\\\"\\\", \\\r\n",
        "        \\\"SchemaFileName\\\":\\\"\\\", \\\r\n",
        "        \\\"Type\\\":\\\"Notebook-Optional\\\", \\\r\n",
        "        \\\"WriteSchemaToPurview\\\":\\\"Disabled\\\" \\\r\n",
        "        }, \\\r\n",
        "    \\\"TMOptionals\\\":{ \\\r\n",
        "        \\\"CustomDefinitions\\\": \\\"SparkDatabaseName=sif\\\",\\\r\n",
        "        \\\"ExecuteNotebook\\\":\\\"SIFLoadDimStaffPersonal\\\", \\\r\n",
        "        \\\"Purview\\\":\\\"Disabled\\\", \\\r\n",
        "        \\\"QualifiedIDAssociation\\\":\\\"TaskMasterId\\\", \\\r\n",
        "        \\\"UseNotebookActivity\\\":\\\"Enabled\\\" \\\r\n",
        "        } \\\r\n",
        "    }\" \r\n"
      ],
      "outputs": [
        {
          "output_type": "display_data",
          "data": {
            "application/vnd.livy.statement-meta+json": {
              "execution_finish_time": "2022-07-03T12:04:55.8431069Z",
              "execution_start_time": "2022-07-03T12:04:55.6916735Z",
              "livy_statement_state": "available",
              "queued_time": "2022-07-03T12:04:55.583777Z",
              "session_id": 7,
              "session_start_time": null,
              "spark_pool": "adsdevsynspads",
              "state": "finished",
              "statement_id": 2
            },
            "text/plain": "StatementMeta(adsdevsynspads, 7, 2, Finished, Available)"
          },
          "metadata": {}
        }
      ],
      "execution_count": null,
      "metadata": {
        "jupyter": {
          "outputs_hidden": false,
          "source_hidden": false
        },
        "nteract": {
          "transient": {
            "deleting": false
          }
        },
        "tags": [
          "parameters"
        ]
      }
    },
    {
      "cell_type": "code",
      "source": [
        "import random\r\n",
        "import json\r\n",
        "from pyspark.sql import Row\r\n",
        "from pyspark.sql.types import *\r\n",
        "from pyspark.sql.functions import *\r\n",
        "\r\n",
        "session_id = random.randint(0,1000000)\r\n",
        "#invalid source\r\n",
        "##TaskObject = \"{\\\"TaskInstanceId\\\":1,\\\"TaskMasterId\\\":2,\\\"TaskStatus\\\":\\\"InProgress\\\",\\\"TaskType\\\":\\\"TestTask Type Name\\\",\\\"Enabled\\\":1,\\\"ExecutionUid\\\":\\\"8448eabb-9ba4-4779-865b-29e973431273\\\",\\\"NumberOfRetries\\\":0,\\\"DegreeOfCopyParallelism\\\":1,\\\"KeyVaultBaseUrl\\\":\\\"https://ark-stg-kv-ads-irud.vault.azure.net/\\\",\\\"ScheduleMasterId\\\":\\\"-4\\\",\\\"TaskGroupConcurrency\\\":\\\"10\\\",\\\"TaskGroupPriority\\\":0,\\\"TaskExecutionType\\\":\\\"ADF\\\",\\\"ExecutionEngine\\\":{\\\"EngineId\\\":-1,\\\"EngineName\\\":\\\"ark-stg-adf-ads-irud\\\",\\\"SystemType\\\":\\\"Datafactory\\\",\\\"ResourceGroup\\\":\\\"dlzdev04\\\",\\\"SubscriptionId\\\":\\\"ed1206e0-17c7-4bc2-ad4b-f8d4dab9284f\\\",\\\"ADFPipeline\\\":\\\"GPL_AzureSqlTable_NA_AzureBlobFS_Parquet_Azure\\\",\\\"EngineJson\\\":\\\"{}\\\",\\\"TaskDatafactoryIR\\\":\\\"Azure\\\",\\\"JsonProperties\\\":{}},\\\"Source\\\":{\\\"System\\\":{\\\"SystemId\\\":-8,\\\"SystemServer\\\":\\\"https://arkstgdlsadsirudadsl.dfs.core.windows.net\\\",\\\"AuthenticationType\\\":\\\"MSI\\\",\\\"Type\\\":\\\"ADLS\\\",\\\"Username\\\":null,\\\"Container\\\":\\\"datalakelanding\\\"},\\\"Instance\\\":{\\\"TargetRelativePath\\\":\\\"\\\"},\\\"DataFileName\\\":\\\"TestFile.parquet\\\",\\\"RelativePath\\\":\\\"\\\",\\\"SchemaFileName\\\":\\\"TestFile.json\\\"},\\\"Target\\\":{\\\"System\\\":{\\\"SystemId\\\":-8,\\\"SystemServer\\\":\\\"https://arkstgdlsadsirudadsl.dfs.core.windows.net\\\",\\\"AuthenticationType\\\":\\\"MSI\\\",\\\"Type\\\":\\\"ADLS\\\",\\\"Username\\\":null,\\\"Container\\\":\\\"datalakelanding\\\"},\\\"Instance\\\":{\\\"TargetRelativePath\\\":\\\"\\\"},\\\"DataFileName\\\":\\\"TestFile.parquet\\\",\\\"RelativePath\\\":\\\"\\\",\\\"SchemaFileName\\\":\\\"TestFile.json\\\",\\\"Type\\\":\\\"Parquet\\\"}}\"\r\n",
        "#valid source\r\n",
        "#TaskObject = \"{\\\"TaskInstanceId\\\":1,\\\"TaskMasterId\\\":2,\\\"TaskStatus\\\":\\\"InProgress\\\",\\\"TaskType\\\":\\\"TestTask Type Name\\\", \\\"Enabled\\\":1,\\\"ExecutionUid\\\":\\\"8448eabb-9ba4-4779-865b-29e973431273\\\",\\\"NumberOfRetries\\\":0,\\\"DegreeOfCopyParallelism\\\":1, \\\"KeyVaultBaseUrl\\\":\\\"https://ads-dev-kv-ads-ic038069.vault.azure.net/\\\",\\\"ScheduleMasterId\\\":\\\"-4\\\",\\\"TaskGroupConcurrency\\\":\\\"10\\\", \\\"TaskGroupPriority\\\":0,\\\"TaskExecutionType\\\":\\\"ADF\\\",\\\"ExecutionEngine\\\":{\\\"EngineId\\\":-1,\\\"EngineName\\\":\\\"ads-dev-kv-ads-ic038069\\\", \\\"SystemType\\\":\\\"Microsoft.Synapse/workspaces\\\",\\\"ResourceGroup\\\":\\\"sifgofast\\\",\\\"SubscriptionId\\\":\\\"cd486ba9-eef3-466d-b16c-7f1b2941ae9d\\\", \\\"ADFPipeline\\\":\\\"GPL_AzureSqlTable_NA_AzureBlobFS_Parquet_Azure\\\",\\\"EngineJson\\\":\\\"{}\\\",\\\"TaskDatafactoryIR\\\":\\\"Azure\\\", \\\"JsonProperties\\\":{}},\\\"Source\\\":{\\\"System\\\":{\\\"SystemId\\\":-8,\\\"SystemServer\\\":\\\"https://adsdevdlsadsic03adsl.blob.core.windows.net\\\", \\\"AuthenticationType\\\":\\\"MSI\\\",\\\"Type\\\":\\\"ADLS\\\",\\\"Username\\\":null,\\\"Container\\\":\\\"adsdevdlsadsic03\\\"},\\\"Instance\\\":\\\"\\\",{\\\"TargetRelativePath\\\":\\\"synapse/sif\\\"}, \\\"DataFileName\\\":\\\"StudentPersonal.parquet\\\",\\\"SourceRelativePath\\\":\\\"synapse/sif\\\",\\\"SchemaFileName\\\":\\\"StudentPersonal.json\\\",\\\"Type\\\":\\\"Parquet\\\"}, \\\"Target\\\":{\\\"System\\\":{\\\"SystemId\\\":-8,\\\"SystemServer\\\":\\\"https://adsdevdlsadsic03adsl.blob.core.windows.net\\\", \\\"AuthenticationType\\\":\\\"MSI\\\",\\\"Type\\\":\\\"ABS\\\",\\\"Username\\\":null,\\\"Container\\\":\\\"adsdevdlsadsic03\\\"}, \\\"Instance\\\":{\\\"TargetRelativePath\\\":\\\"\\\"},\\\"DataFileName\\\":\\\"StudentPersonal.parquet\\\",\\\"SourceRelativePath\\\":\\\"synapse\\/sif\\\", \\\"SchemaFileName\\\":\\\"StudentPersonal.json\\\",\\\"Type\\\":\\\"Parquet\\\"}}\"\r\n",
        "TaskDict = {}\r\n",
        "OutputDict = {}\r\n",
        "TaskObjectJson = json.loads(TaskObject)\r\n",
        "\r\n",
        "##we want to delete EngineJson as it causes issues when converting back to a json and it is not needed as its properties are within JsonProperties as children\r\n",
        "try:\r\n",
        "    del TaskObjectJson['ExecutionEngine']['EngineJson']\r\n",
        "except:\r\n",
        "    print(\"No EngineJson Found\")\r\n",
        "\r\n",
        "\r\n",
        "SifDbName = \"sif\"\r\n",
        "tmopts = TaskObjectJson['TMOptionals']['CustomDefinitions'].split(\",\")\r\n",
        "for o in tmopts:\r\n",
        "    opt = o.split(\"=\")\r\n",
        "    if (opt[0] == \"SparkDatabaseName\"):\r\n",
        "        SifDbName = opt[1].lower()\r\n",
        "        break\r\n",
        "\r\n",
        "print(SifDbName)"
      ],
      "outputs": [],
      "execution_count": null,
      "metadata": {
        "jupyter": {
          "source_hidden": false,
          "outputs_hidden": false
        },
        "nteract": {
          "transient": {
            "deleting": false
          }
        }
      }
    },
    {
      "cell_type": "code",
      "source": [
        "spark.catalog.setCurrentDatabase(SifDbName)"
      ],
      "outputs": [],
      "execution_count": null,
      "metadata": {
        "jupyter": {
          "source_hidden": false,
          "outputs_hidden": false
        },
        "nteract": {
          "transient": {
            "deleting": false
          }
        }
      }
    },
    {
      "cell_type": "code",
      "source": [
        "from pyspark.sql.functions import *\n",
        "df_Raw = spark.sql(\"select * from raw_staffpersonal\")\n",
        "df_RawWJ = df_Raw.withColumn('json',to_json (struct (col ('*')))).select(\"RefId\", \"json\")\n",
        "\n",
        "df_Out = df_RawWJ \\\n",
        ".withColumn('LocalId',get_json_object(col('json'), '$.LocalId')) \\\n",
        ".withColumn('StateProvinceId',get_json_object(col('json'), '$.StateProvinceId')) \\\n",
        ".withColumn('FirstName',get_json_object(col('json'), '$.FirstName')) \\\n",
        ".withColumn('LastName',get_json_object(col('json'), '$.LastName')) \\\n",
        ".withColumn('MiddleName',get_json_object(col('json'), '$.MiddleName')) \\\n",
        ".withColumn('OtherNames',get_json_object(col('json'), '$.OtherNames')) \\\n",
        ".withColumn('EmploymentStatus',get_json_object(col('json'), '$.EmploymentStatus')) \\\n",
        ".withColumn('Title',get_json_object(col('json'), '$.Title')) \\\n",
        ".withColumn('IndigenousStatus',get_json_object(col('json'), '$.IndigenousStatus')) \\\n",
        ".withColumn('Sex',get_json_object(col('json'), '$.Sex')) \\\n",
        ".withColumn('BirthDate',get_json_object(col('json'), '$.BirthDate')) \\\n",
        ".withColumn('DateOfDeath',get_json_object(col('json'), '$.DateOfDeath')) \\\n",
        ".withColumn('Deceased',get_json_object(col('json'), '$.Deceased')) \\\n",
        ".withColumn('BirthDateVerification',get_json_object(col('json'), '$.BirthDateVerification')) \\\n",
        ".withColumn('PlaceOfBirth',get_json_object(col('json'), '$.PlaceOfBirth')) \\\n",
        ".withColumn('StateOfBirth',get_json_object(col('json'), '$.StateOfBirth')) \\\n",
        ".withColumn('CountryOfBirth',get_json_object(col('json'), '$.CountryOfBirth')) \\\n",
        ".withColumn('CountryOfCitizenship',get_json_object(col('json'), '$.CountryOfCitizenship')) \\\n",
        ".withColumn('CountryOfResidency',get_json_object(col('json'), '$.CountryOfResidency')) \\\n",
        ".withColumn('CountryArrivalDate',get_json_object(col('json'), '$.CountryArrivalDate')) \\\n",
        ".withColumn('AustralianCitizenshipStatus',get_json_object(col('json'), '$.AustralianCitizenshipStatus')) \\\n",
        ".withColumn('EnglishProficiency',get_json_object(col('json'), '$.EnglishProficiency')) \\\n",
        ".withColumn('LanguageList',get_json_object(col('json'), '$.LanguageList')) \\\n",
        ".withColumn('DwellingArrangement',get_json_object(col('json'), '$.DwellingArrangement')) \\\n",
        ".withColumn('Religion',get_json_object(col('json'), '$.Religion')) \\\n",
        ".withColumn('ReligiousEventList',get_json_object(col('json'), '$.ReligiousEventList')) \\\n",
        ".withColumn('ReligiousRegion',get_json_object(col('json'), '$.ReligiousRegion')) \\\n",
        ".withColumn('PermanentResident',get_json_object(col('json'), '$.PermanentResident')) \\\n",
        ".withColumn('VisaSubClass',get_json_object(col('json'), '$.VisaSubClass')) \\\n",
        ".withColumn('VisaStatisticalCode',get_json_object(col('json'), '$.VisaStatisticalCode')) \\\n",
        ".withColumn('EmailList',get_json_object(col('json'), '$.EmailList')) \\\n",
        ".withColumn('PhoneNumberList',get_json_object(col('json'), '$.PhoneNumberList')) \\\n",
        ".withColumn('AddressList',get_json_object(col('json'), '$.AddressList')) \\\n",
        ".select('RefId',\t'LocalId',\t'StateProvinceId',\t'FirstName',\t'LastName',\t'MiddleName',\t'OtherNames',\t'EmploymentStatus',\t'Title',\t'IndigenousStatus',\t'Sex',\t'BirthDate',\t'DateOfDeath',\t'Deceased',\t'BirthDateVerification',\t'PlaceOfBirth',\t'StateOfBirth',\t'CountryOfBirth',\t'CountryOfCitizenship',\t'CountryOfResidency',\t'CountryArrivalDate',\t'AustralianCitizenshipStatus',\t'EnglishProficiency',\t'LanguageList',\t'DwellingArrangement',\t'Religion',\t'ReligiousEventList',\t'ReligiousRegion',\t'PermanentResident',\t'VisaSubClass',\t'VisaStatisticalCode',\t'EmailList',\t'PhoneNumberList',\t'AddressList',\n",
        ") \n",
        "\n",
        "\n"
      ],
      "outputs": [
        {
          "output_type": "display_data",
          "data": {
            "application/vnd.livy.statement-meta+json": {
              "execution_finish_time": "2022-07-03T12:23:33.5774397Z",
              "execution_start_time": "2022-07-03T12:23:31.7503941Z",
              "livy_statement_state": "available",
              "queued_time": "2022-07-03T12:23:31.6527541Z",
              "session_id": 7,
              "session_start_time": null,
              "spark_pool": "adsdevsynspads",
              "state": "finished",
              "statement_id": 29
            },
            "text/plain": "StatementMeta(adsdevsynspads, 7, 29, Finished, Available)"
          },
          "metadata": {}
        }
      ],
      "execution_count": null,
      "metadata": {
        "jupyter": {
          "outputs_hidden": false,
          "source_hidden": false
        },
        "nteract": {
          "transient": {
            "deleting": false
          }
        }
      }
    },
    {
      "cell_type": "code",
      "source": [
        "df_Out.write.mode(\"overwrite\").saveAsTable(\"dm_staffpersonal\")"
      ],
      "outputs": [
        {
          "output_type": "display_data",
          "data": {
            "application/vnd.livy.statement-meta+json": {
              "execution_finish_time": "2022-07-03T12:25:32.2411604Z",
              "execution_start_time": "2022-07-03T12:25:19.5170497Z",
              "livy_statement_state": "available",
              "queued_time": "2022-07-03T12:25:19.4260717Z",
              "session_id": 7,
              "session_start_time": null,
              "spark_pool": "adsdevsynspads",
              "state": "finished",
              "statement_id": 32
            },
            "text/plain": "StatementMeta(adsdevsynspads, 7, 32, Finished, Available)"
          },
          "metadata": {}
        }
      ],
      "execution_count": null,
      "metadata": {
        "jupyter": {
          "outputs_hidden": false,
          "source_hidden": false
        },
        "nteract": {
          "transient": {
            "deleting": false
          }
        }
      }
    }
  ],
  "metadata": {
    "kernelspec": {
      "name": "synapse_pyspark",
      "display_name": "Synapse PySpark"
    },
    "language_info": {
      "name": "python"
    },
    "description": null,
    "save_output": true,
    "synapse_widget": {
      "version": "0.1",
      "state": {}
    }
  },
  "nbformat": 4,
  "nbformat_minor": 2
}